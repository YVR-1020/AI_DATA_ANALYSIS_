{
 "cells": [
  {
   "cell_type": "code",
   "execution_count": 1,
   "metadata": {},
   "outputs": [
    {
     "ename": "ModuleNotFoundError",
     "evalue": "No module named 'great_expectations'",
     "output_type": "error",
     "traceback": [
      "\u001b[0;31m---------------------------------------------------------------------------\u001b[0m",
      "\u001b[0;31mModuleNotFoundError\u001b[0m                       Traceback (most recent call last)",
      "Cell \u001b[0;32mIn[1], line 5\u001b[0m\n\u001b[1;32m      1\u001b[0m \u001b[38;5;66;03m# Question: Data Quality Automation Tools - Introduction to Great Expectations\u001b[39;00m\n\u001b[1;32m      2\u001b[0m \u001b[38;5;66;03m# Description: Set up a simple Great Expectations check for missing values in a numeric column.\u001b[39;00m\n\u001b[1;32m      4\u001b[0m \u001b[38;5;28;01mimport\u001b[39;00m\u001b[38;5;250m \u001b[39m\u001b[38;5;21;01mos\u001b[39;00m\n\u001b[0;32m----> 5\u001b[0m \u001b[38;5;28;01mimport\u001b[39;00m\u001b[38;5;250m \u001b[39m\u001b[38;5;21;01mgreat_expectations\u001b[39;00m\u001b[38;5;250m \u001b[39m\u001b[38;5;28;01mas\u001b[39;00m\u001b[38;5;250m \u001b[39m\u001b[38;5;21;01mgx\u001b[39;00m\n\u001b[1;32m      6\u001b[0m \u001b[38;5;28;01mfrom\u001b[39;00m\u001b[38;5;250m \u001b[39m\u001b[38;5;21;01mgreat_expectations\u001b[39;00m\u001b[38;5;21;01m.\u001b[39;00m\u001b[38;5;21;01mcheckpoint\u001b[39;00m\u001b[38;5;250m \u001b[39m\u001b[38;5;28;01mimport\u001b[39;00m Checkpoint\n\u001b[1;32m      7\u001b[0m \u001b[38;5;28;01mfrom\u001b[39;00m\u001b[38;5;250m \u001b[39m\u001b[38;5;21;01mgreat_expectations\u001b[39;00m\u001b[38;5;21;01m.\u001b[39;00m\u001b[38;5;21;01mcore\u001b[39;00m\u001b[38;5;21;01m.\u001b[39;00m\u001b[38;5;21;01mbatch\u001b[39;00m\u001b[38;5;250m \u001b[39m\u001b[38;5;28;01mimport\u001b[39;00m RuntimeBatchRequest\n",
      "\u001b[0;31mModuleNotFoundError\u001b[0m: No module named 'great_expectations'"
     ]
    }
   ],
   "source": [
    "# Question: Data Quality Automation Tools - Introduction to Great Expectations\n",
    "# Description: Set up a simple Great Expectations check for missing values in a numeric column.\n",
    "\n",
    "import os\n",
    "import great_expectations as gx\n",
    "from great_expectations.checkpoint import Checkpoint\n",
    "from great_expectations.core.batch import RuntimeBatchRequest\n",
    "\n",
    "# STEP 3: Initialize file-based context\n",
    "context = gx.get_context(mode=\"file\")\n",
    "\n",
    "# STEP 4: Add a Pandas datasource with runtime data connector\n",
    "datasource_name = \"my_csv_datasource\"\n",
    "if datasource_name not in [ds[\"name\"] for ds in context.list_datasources()]:\n",
    "    context.add_datasource(\n",
    "        name=datasource_name,\n",
    "        class_name=\"Datasource\",\n",
    "        execution_engine={\"class_name\": \"PandasExecutionEngine\"},\n",
    "        data_connectors={\n",
    "            \"default_runtime_data_connector_name\": {\n",
    "                \"class_name\": \"RuntimeDataConnector\",\n",
    "                \"batch_identifiers\": [\"default_identifier_name\"]\n",
    "            }\n",
    "        }\n",
    "    )\n",
    "\n",
    "# STEP 5: Create Expectation Suite\n",
    "suite_name = \"expect_no_missing_values\"\n",
    "if suite_name not in [s.expectation_suite_name for s in context.list_expectation_suites()]:\n",
    "    context.add_expectation_suite(expectation_suite_name=suite_name)\n",
    "\n",
    "# STEP 6: Set path to the CSV\n",
    "csv_path = \"data/score_data.csv\"  # Ensure this path exists and file is present\n",
    "\n",
    "# STEP 7: Create RuntimeBatchRequest\n",
    "batch_request = RuntimeBatchRequest(\n",
    "    datasource_name=datasource_name,\n",
    "    data_connector_name=\"default_runtime_data_connector_name\",\n",
    "    data_asset_name=\"score_data\",  # this can be any name\n",
    "    runtime_parameters={\"path\": csv_path},\n",
    "    batch_identifiers={\"default_identifier_name\": \"default_id\"}\n",
    ")\n",
    "\n",
    "# STEP 8: Create Validator and Expectation\n",
    "validator = context.get_validator(\n",
    "    batch_request=batch_request,\n",
    "    expectation_suite_name=suite_name\n",
    ")\n",
    "\n",
    "# Add expectation to check for missing values\n",
    "validator.expect_column_values_to_not_be_null(\"score\")\n",
    "\n",
    "# Save expectation suite\n",
    "validator.save_expectation_suite()\n",
    "\n",
    "# STEP 9: Validate data\n",
    "checkpoint_result = validator.validate()\n",
    "print(checkpoint_result)"
   ]
  }
 ],
 "metadata": {
  "kernelspec": {
   "display_name": "Python 3",
   "language": "python",
   "name": "python3"
  },
  "language_info": {
   "codemirror_mode": {
    "name": "ipython",
    "version": 3
   },
   "file_extension": ".py",
   "mimetype": "text/x-python",
   "name": "python",
   "nbconvert_exporter": "python",
   "pygments_lexer": "ipython3",
   "version": "3.10.12"
  }
 },
 "nbformat": 4,
 "nbformat_minor": 2
}
