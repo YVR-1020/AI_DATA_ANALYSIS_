{
 "cells": [
  {
   "cell_type": "markdown",
   "metadata": {},
   "source": [
    "## Data Quality Dashboard in Python\n",
    "\n",
    "**Description**: Create a basic dashboard using a Python library (e.g., Plotly Dash) to visualize data quality metrics for a given dataset."
   ]
  },
  {
   "cell_type": "code",
   "execution_count": 1,
   "metadata": {},
   "outputs": [
    {
     "ename": "ModuleNotFoundError",
     "evalue": "No module named 'dash'",
     "output_type": "error",
     "traceback": [
      "\u001b[0;31m---------------------------------------------------------------------------\u001b[0m",
      "\u001b[0;31mModuleNotFoundError\u001b[0m                       Traceback (most recent call last)",
      "Cell \u001b[0;32mIn[1], line 2\u001b[0m\n\u001b[1;32m      1\u001b[0m \u001b[38;5;66;03m# Write your code from here\u001b[39;00m\n\u001b[0;32m----> 2\u001b[0m \u001b[38;5;28;01mimport\u001b[39;00m\u001b[38;5;250m \u001b[39m\u001b[38;5;21;01mdash\u001b[39;00m\n\u001b[1;32m      3\u001b[0m \u001b[38;5;28;01mfrom\u001b[39;00m\u001b[38;5;250m \u001b[39m\u001b[38;5;21;01mdash\u001b[39;00m\u001b[38;5;250m \u001b[39m\u001b[38;5;28;01mimport\u001b[39;00m dcc\n\u001b[1;32m      4\u001b[0m \u001b[38;5;28;01mfrom\u001b[39;00m\u001b[38;5;250m \u001b[39m\u001b[38;5;21;01mdash\u001b[39;00m\u001b[38;5;250m \u001b[39m\u001b[38;5;28;01mimport\u001b[39;00m html\n",
      "\u001b[0;31mModuleNotFoundError\u001b[0m: No module named 'dash'"
     ]
    }
   ],
   "source": [
    "# Write your code from here\n",
    "import dash\n",
    "from dash import dcc\n",
    "from dash import html\n",
    "import plotly.graph_objects as go\n",
    "\n",
    "# Sample Data Quality Metrics (replace with your actual calculations)\n",
    "data_completeness = 85.5\n",
    "data_accuracy = 92.1\n",
    "data_consistency = 78.9\n",
    "data_validity = 95.0\n",
    "data_timeliness = 88.7\n",
    "data_uniqueness = 90.3\n",
    "\n",
    "metrics = {\n",
    "    \"Completeness\": data_completeness,\n",
    "    \"Accuracy\": data_accuracy,\n",
    "    \"Consistency\": data_consistency,\n",
    "    \"Validity\": data_validity,\n",
    "    \"Timeliness\": data_timeliness,\n",
    "    \"Uniqueness\": data_uniqueness,\n",
    "}\n",
    "\n",
    "# Initialize the Dash app\n",
    "app = dash.Dash(__name__)\n",
    "\n",
    "# Define the layout of the dashboard\n",
    "app.layout = html.Div(\n",
    "    style={'textAlign': 'center', 'padding': '20px'},\n",
    "    children=[\n",
    "        html.H1(\"Data Quality Dashboard\", style={'color': '#333'}),\n",
    "        html.Div(\n",
    "            style={'display': 'flex', 'flexWrap': 'wrap', 'justifyContent': 'space-around'},\n",
    "            children=[\n",
    "                html.Div(\n",
    "                    style={'width': '300px', 'border': '1px solid #ddd', 'padding': '15px', 'margin': '10px', 'borderRadius': '5px'},\n",
    "                    children=[\n",
    "                        html.H3(metric_name, style={'color': '#555'}),\n",
    "                        html.P(f\"{value:.2f}%\", style={'fontSize': '2em', 'color': '#007bff'})\n",
    "                    ]\n",
    "                )\n",
    "                for metric_name, value in metrics.items()\n",
    "            ]\n",
    "        ),\n",
    "        html.Div(\n",
    "            style={'width': '80%', 'margin': '20px auto'},\n",
    "            children=[\n",
    "                dcc.Graph(\n",
    "                    id='data-quality-bar-chart',\n",
    "                    figure={\n",
    "                        'data': [\n",
    "                            go.Bar(x=list(metrics.keys()), y=list(metrics.values()), text=[f\"{v:.2f}%\" for v in metrics.values()], textposition='outside')\n",
    "                        ],\n",
    "                        'layout': go.Layout(\n",
    "                            title='Data Quality Metrics Overview',\n",
    "                            xaxis={'title': 'Data Quality Dimension'},\n",
    "                            yaxis={'title': 'Percentage'},\n",
    "                            uniformtext_minsize=8,\n",
    "                            uniformtext_mode='hide'\n",
    "                        )\n",
    "                    }\n",
    "                )\n",
    "            ]\n",
    "        )\n",
    "    ]\n",
    ")\n",
    "\n",
    "if __name__ == '__main__':\n",
    "    app.run_server(debug=True)"
   ]
  }
 ],
 "metadata": {
  "kernelspec": {
   "display_name": "Python 3",
   "language": "python",
   "name": "python3"
  },
  "language_info": {
   "codemirror_mode": {
    "name": "ipython",
    "version": 3
   },
   "file_extension": ".py",
   "mimetype": "text/x-python",
   "name": "python",
   "nbconvert_exporter": "python",
   "pygments_lexer": "ipython3",
   "version": "3.10.12"
  }
 },
 "nbformat": 4,
 "nbformat_minor": 2
}
