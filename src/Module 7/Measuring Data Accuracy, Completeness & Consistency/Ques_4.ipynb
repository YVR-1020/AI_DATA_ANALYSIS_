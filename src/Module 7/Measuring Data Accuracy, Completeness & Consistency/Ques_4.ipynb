{
 "cells": [
  {
   "cell_type": "markdown",
   "metadata": {},
   "source": [
    "## Ensuring Consistency in Multi-source Data Integration\n",
    "\n",
    "**Description**: Validate the integration of two datasets `products_A.csv` and `products_B.csv` . Ensure consistency in product \"category\" information."
   ]
  },
  {
   "cell_type": "code",
   "execution_count": null,
   "metadata": {},
   "outputs": [
    {
     "ename": "SyntaxError",
     "evalue": "invalid syntax (3837592119.py, line 2)",
     "output_type": "error",
     "traceback": [
      "\u001b[0;36m  Cell \u001b[0;32mIn[3], line 2\u001b[0;36m\u001b[0m\n\u001b[0;31m    from Module 7 import ensure_category_consistency  # Replace 'your_module_name'\u001b[0m\n\u001b[0m                ^\u001b[0m\n\u001b[0;31mSyntaxError\u001b[0m\u001b[0;31m:\u001b[0m invalid syntax\n"
     ]
    }
   ],
   "source": [
    "import pandas as pd\n",
    "from your_module_name import ensure_category_consistency  # Replace 'your_module_name'\n",
    "\n",
    "def test_consistent_categories():\n",
    "    \"\"\"Test case where categories are consistent across both files.\"\"\"\n",
    "    data_a = {'product_id': [1, 2], 'category': ['Electronics', 'Accessories']}\n",
    "    data_b = {'product_id': [1, 2], 'category': ['Electronics', 'Accessories']}\n",
    "    df_a = pd.DataFrame(data_a)\n",
    "    df_b = pd.DataFrame(data_b)\n",
    "    df_a.to_csv('test_products_a_consistent.csv', index=False)\n",
    "    df_b.to_csv('test_products_b_consistent.csv', index=False)\n",
    "    inconsistent_df = ensure_category_consistency('test_products_a_consistent.csv', 'test_products_b_consistent.csv')\n",
    "    assert inconsistent_df.empty\n",
    "\n",
    "def test_inconsistent_categories():\n",
    "    \"\"\"Test case where categories are inconsistent for one product.\"\"\"\n",
    "    data_a = {'product_id': [1, 2], 'category': ['Electronics', 'Accessories']}\n",
    "    data_b = {'product_id': [1, 2], 'category': ['Electronics', 'Peripherals']}\n",
    "    df_a = pd.DataFrame(data_a)\n",
    "    df_b = pd.DataFrame(data_b)\n",
    "    df_a.to_csv('test_products_a_inconsistent.csv', index=False)\n",
    "    df_b.to_csv('test_products_b_inconsistent.csv', index=False)\n",
    "    inconsistent_df = ensure_category_consistency('test_products_a_inconsistent.csv', 'test_products_b_inconsistent.csv')\n",
    "    assert not inconsistent_df.empty\n",
    "    assert len(inconsistent_df) == 1\n",
    "    assert inconsistent_df.iloc[0]['category_A'] == 'Accessories'\n",
    "    assert inconsistent_df.iloc[0]['category_B'] == 'Peripherals'\n",
    "\n",
    "def test_missing_product_id_column_a():\n",
    "    \"\"\"Test case where product_id column is missing in the first file.\"\"\"\n",
    "    data_a = {'name': ['Laptop', 'Mouse'], 'category': ['Electronics', 'Accessories']}\n",
    "    data_b = {'product_id': [1, 2], 'category': ['Electronics', 'Accessories']}\n",
    "    df_a = pd.DataFrame(data_a)\n",
    "    df_b = pd.DataFrame(data_b)\n",
    "    df_a.to_csv('test_products_a_missing_id.csv', index=False)\n",
    "    df_b.to_csv('test_products_b_present_id.csv', index=False)\n",
    "    inconsistent_df = ensure_category_consistency('test_products_a_missing_id.csv', 'test_products_b_present_id.csv')\n",
    "    assert inconsistent_df is None\n",
    "\n",
    "def test_missing_category_column_b():\n",
    "    \"\"\"Test case where category column is missing in the second file.\"\"\"\n",
    "    data_a = {'product_id': [1, 2], 'category': ['Electronics', 'Accessories']}\n",
    "    data_b = {'product_id': [1, 2], 'description': ['Cool laptop', 'Comfortable mouse']}\n",
    "    df_a = pd.DataFrame(data_a)\n",
    "    df_b = pd.DataFrame(data_b)\n",
    "    df_a.to_csv('test_products_a_present_cat.csv', index=False)\n",
    "    df_b.to_csv('test_products_b_missing_cat.csv', index=False)\n",
    "    inconsistent_df = ensure_category_consistency('test_products_a_present_cat.csv', 'test_products_b_missing_cat.csv')\n",
    "    assert inconsistent_df is None\n",
    "\n",
    "def test_file_not_found_a():\n",
    "    \"\"\"Test case where the first file is not found.\"\"\"\n",
    "    inconsistent_df = ensure_category_consistency('non_existent_a.csv', 'test_products_b_consistent.csv')\n",
    "    assert inconsistent_df is None\n",
    "\n",
    "def test_file_not_found_b():\n",
    "    \"\"\"Test case where the second file is not found.\"\"\"\n",
    "    data_a = {'product_id': [1], 'category': ['Electronics']}\n",
    "    df_a = pd.DataFrame(data_a)\n",
    "    df_a.to_csv('test_products_a_present.csv', index=False)\n",
    "    inconsistent_df = ensure_category_consistency('test_products_a_present.csv', 'non_existent_b.csv')\n",
    "    assert inconsistent_df is None"
   ]
  }
 ],
 "metadata": {
  "kernelspec": {
   "display_name": "Python 3",
   "language": "python",
   "name": "python3"
  },
  "language_info": {
   "codemirror_mode": {
    "name": "ipython",
    "version": 3
   },
   "file_extension": ".py",
   "mimetype": "text/x-python",
   "name": "python",
   "nbconvert_exporter": "python",
   "pygments_lexer": "ipython3",
   "version": "3.10.12"
  }
 },
 "nbformat": 4,
 "nbformat_minor": 2
}
