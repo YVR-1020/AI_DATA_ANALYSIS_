{
 "cells": [
  {
   "cell_type": "markdown",
   "metadata": {},
   "source": [
    "## Ensuring Consistency in Multi-source Data Integration\n",
    "\n",
    "**Description**: Validate the integration of two datasets `products_A.csv` and `products_B.csv` . Ensure consistency in product \"category\" information."
   ]
  },
  {
   "cell_type": "code",
   "execution_count": 1,
   "metadata": {},
   "outputs": [
    {
     "name": "stdout",
     "output_type": "stream",
     "text": [
      "Error: One or both files not found: [Errno 2] No such file or directory: 'products_A.csv'\n"
     ]
    }
   ],
   "source": [
    "# Write your code from here\n",
    "import pandas as pd\n",
    "\n",
    "def ensure_category_consistency(file_a, file_b, product_id_col='product_id', category_col='category'):\n",
    "    \"\"\"\n",
    "    Validates the integration of two datasets by ensuring consistency\n",
    "    in product category information based on a common product ID.\n",
    "\n",
    "    Args:\n",
    "        file_a (str): Path to the first products CSV file.\n",
    "        file_b (str): Path to the second products CSV file.\n",
    "        product_id_col (str, optional): Name of the common product ID column.\n",
    "                                       Defaults to 'product_id'.\n",
    "        category_col (str, optional): Name of the product category column.\n",
    "                                     Defaults to 'category'.\n",
    "\n",
    "    Returns:\n",
    "        pandas.DataFrame: A DataFrame showing products with inconsistent\n",
    "                          category information across the two files.\n",
    "                          Returns None if files are not found or required\n",
    "                          columns are missing.\n",
    "    \"\"\"\n",
    "    try:\n",
    "        df_a = pd.read_csv(file_a)\n",
    "        df_b = pd.read_csv(file_b)\n",
    "    except FileNotFoundError as e:\n",
    "        print(f\"Error: One or both files not found: {e}\")\n",
    "        return None\n",
    "\n",
    "    if product_id_col not in df_a.columns or product_id_col not in df_b.columns:\n",
    "        print(f\"Error: Common product ID column '{product_id_col}' not found in one or both files.\")\n",
    "        return None\n",
    "\n",
    "    if category_col not in df_a.columns or category_col not in df_b.columns:\n",
    "        print(f\"Error: Category column '{category_col}' not found in one or both files.\")\n",
    "        return None\n",
    "\n",
    "    # Merge the two DataFrames on the product ID\n",
    "    merged_df = pd.merge(df_a[[product_id_col, category_col]],\n",
    "                         df_b[[product_id_col, category_col]],\n",
    "                         on=product_id_col,\n",
    "                         suffixes=('_A', '_B'))\n",
    "\n",
    "    # Identify rows where the category information is inconsistent\n",
    "    inconsistent_categories_df = merged_df[merged_df[f'{category_col}_A'] != merged_df[f'{category_col}_B']]\n",
    "\n",
    "    return inconsistent_categories_df\n",
    "\n",
    "# Example usage:\n",
    "products_file_a = 'products_A.csv'\n",
    "products_file_b = 'products_B.csv'\n",
    "inconsistent_products = ensure_category_consistency(products_file_a, products_file_b)\n",
    "\n",
    "if inconsistent_products is not None:\n",
    "    print(\"Products with Inconsistent Category Information:\")\n",
    "    print(inconsistent_products)"
   ]
  }
 ],
 "metadata": {
  "kernelspec": {
   "display_name": "Python 3",
   "language": "python",
   "name": "python3"
  },
  "language_info": {
   "codemirror_mode": {
    "name": "ipython",
    "version": 3
   },
   "file_extension": ".py",
   "mimetype": "text/x-python",
   "name": "python",
   "nbconvert_exporter": "python",
   "pygments_lexer": "ipython3",
   "version": "3.10.12"
  }
 },
 "nbformat": 4,
 "nbformat_minor": 2
}
