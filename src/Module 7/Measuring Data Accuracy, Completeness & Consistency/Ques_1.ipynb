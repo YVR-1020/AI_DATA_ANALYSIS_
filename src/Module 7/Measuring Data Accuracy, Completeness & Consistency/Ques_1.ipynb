{
 "cells": [
  {
   "cell_type": "markdown",
   "metadata": {},
   "source": [
    "### Task 1: Measure Data Accuracy using a Trusted Source\n",
    "\n",
    "**Description**: You have two datasets of product prices: `company_prices.csv` and\n",
    "`trusted_prices.csv` . Check if the prices in `company_prices.csv` match the prices in\n",
    "`trusted_prices.csv` . Assume both files have a \"product_id\" and \"price\" column."
   ]
  },
  {
   "cell_type": "code",
   "execution_count": 1,
   "metadata": {},
   "outputs": [
    {
     "name": "stdout",
     "output_type": "stream",
     "text": [
      "Error: One or both files not found: [Errno 2] No such file or directory: 'company_prices.csv'\n"
     ]
    }
   ],
   "source": [
    "# Write your code from here\n",
    "import pandas as pd\n",
    "\n",
    "def measure_price_accuracy(company_file, trusted_file):\n",
    "    \"\"\"\n",
    "    Checks if product prices in one CSV match those in a trusted source CSV.\n",
    "\n",
    "    Args:\n",
    "        company_file (str): Path to the company prices CSV file.\n",
    "        trusted_file (str): Path to the trusted prices CSV file.\n",
    "\n",
    "    Returns:\n",
    "        pandas.DataFrame: A DataFrame showing the comparison of prices\n",
    "                          and indicating if they match.\n",
    "    \"\"\"\n",
    "    try:\n",
    "        company_prices_df = pd.read_csv(company_file)\n",
    "        trusted_prices_df = pd.read_csv(trusted_file)\n",
    "    except FileNotFoundError as e:\n",
    "        print(f\"Error: One or both files not found: {e}\")\n",
    "        return None\n",
    "\n",
    "    # Merge the two DataFrames on 'product_id'\n",
    "    merged_df = pd.merge(company_prices_df, trusted_prices_df, on='product_id', suffixes=('_company', '_trusted'))\n",
    "\n",
    "    if 'price_company' not in merged_df.columns or 'price_trusted' not in merged_df.columns:\n",
    "        print(\"Error: Both files must have 'price' column after merging.\")\n",
    "        return None\n",
    "\n",
    "    # Compare the prices\n",
    "    merged_df['price_match'] = merged_df['price_company'] == merged_df['price_trusted']\n",
    "\n",
    "    return merged_df\n",
    "\n",
    "# Example usage:\n",
    "company_file = 'company_prices.csv'\n",
    "trusted_file = 'trusted_prices.csv'\n",
    "price_comparison = measure_price_accuracy(company_file, trusted_file)\n",
    "\n",
    "if price_comparison is not None:\n",
    "    print(\"Price Comparison:\")\n",
    "    print(price_comparison)"
   ]
  },
  {
   "cell_type": "markdown",
   "metadata": {},
   "source": [
    "### Task 2: Detect Incorrect Values\n",
    "\n",
    "**Description**: In `company_prices.csv` , detect any negative price values which are incorrect values for prices."
   ]
  },
  {
   "cell_type": "code",
   "execution_count": 3,
   "metadata": {},
   "outputs": [
    {
     "name": "stdout",
     "output_type": "stream",
     "text": [
      "Error: File not found: [Errno 2] No such file or directory: 'company_prices.csv'\n"
     ]
    }
   ],
   "source": [
    "# Write your code from here\n",
    "import pandas as pd\n",
    "\n",
    "def detect_negative_prices(file_path):\n",
    "    \"\"\"\n",
    "    Detects any negative price values in a CSV file.\n",
    "\n",
    "    Args:\n",
    "        file_path (str): Path to the CSV file containing product prices.\n",
    "\n",
    "    Returns:\n",
    "        pandas.DataFrame: A DataFrame containing rows with negative price values.\n",
    "                          Returns None if the file is not found or 'price' column\n",
    "                          is missing.\n",
    "    \"\"\"\n",
    "    try:\n",
    "        df = pd.read_csv(file_path)\n",
    "    except FileNotFoundError as e:\n",
    "        print(f\"Error: File not found: {e}\")\n",
    "        return None\n",
    "\n",
    "    if 'price' not in df.columns:\n",
    "        print(\"Error: The CSV file must have a 'price' column.\")\n",
    "        return None\n",
    "\n",
    "    negative_prices_df = df[df['price'] < 0]\n",
    "    return negative_prices_df\n",
    "\n",
    "# Example usage:\n",
    "company_file = 'company_prices.csv'\n",
    "negative_prices = detect_negative_prices(company_file)\n",
    "\n",
    "if negative_prices is not None:\n",
    "    print(\"\\nRows with Negative Prices:\")\n",
    "    print(negative_prices)"
   ]
  },
  {
   "cell_type": "markdown",
   "metadata": {},
   "source": [
    "### Task 3: Check Missing Data Rates\n",
    "\n",
    "**Description**: Calculate the percentage of missing values in `customer_data.csv` ."
   ]
  },
  {
   "cell_type": "code",
   "execution_count": 4,
   "metadata": {},
   "outputs": [
    {
     "name": "stdout",
     "output_type": "stream",
     "text": [
      "Error: File not found: [Errno 2] No such file or directory: 'customer_data.csv'\n"
     ]
    }
   ],
   "source": [
    "# Write your code from here\n",
    "import pandas as pd\n",
    "\n",
    "def calculate_missing_percentage(file_path):\n",
    "    \"\"\"\n",
    "    Calculates the percentage of missing values for each column in a CSV file.\n",
    "\n",
    "    Args:\n",
    "        file_path (str): Path to the CSV file.\n",
    "\n",
    "    Returns:\n",
    "        pandas.Series: A Series containing the percentage of missing values\n",
    "                       for each column. Returns None if the file is not found.\n",
    "    \"\"\"\n",
    "    try:\n",
    "        df = pd.read_csv(file_path)\n",
    "    except FileNotFoundError as e:\n",
    "        print(f\"Error: File not found: {e}\")\n",
    "        return None\n",
    "\n",
    "    missing_percentage = (df.isnull().sum() / len(df)) * 100\n",
    "    return missing_percentage\n",
    "\n",
    "# Example usage:\n",
    "customer_file = 'customer_data.csv'\n",
    "missing_rates = calculate_missing_percentage(customer_file)\n",
    "\n",
    "if missing_rates is not None:\n",
    "    print(\"\\nMissing Data Rates:\")\n",
    "    print(missing_rates)"
   ]
  },
  {
   "cell_type": "markdown",
   "metadata": {},
   "source": [
    "### Task 4: Handling Partially Available Records\n",
    "\n",
    "**Description**: In `customer_data.csv` , identify records with missing \"email\" or \"phone number\" and decide whether to drop or fill them."
   ]
  },
  {
   "cell_type": "code",
   "execution_count": 5,
   "metadata": {},
   "outputs": [
    {
     "name": "stdout",
     "output_type": "stream",
     "text": [
      "Error: File not found: [Errno 2] No such file or directory: 'customer_data.csv'\n"
     ]
    }
   ],
   "source": [
    "# Write your code from here\n",
    "import pandas as pd\n",
    "\n",
    "def handle_partially_available_records(file_path, columns_to_check):\n",
    "    \"\"\"\n",
    "    Identifies records with missing values in specified columns and suggests handling.\n",
    "\n",
    "    Args:\n",
    "        file_path (str): Path to the CSV file.\n",
    "        columns_to_check (list): A list of column names ('email', 'phone number').\n",
    "\n",
    "    Returns:\n",
    "        pandas.DataFrame: A DataFrame containing rows with missing values\n",
    "                          in the specified columns. Returns None if the file\n",
    "                          is not found or specified columns are missing.\n",
    "    \"\"\"\n",
    "    try:\n",
    "        df = pd.read_csv(file_path)\n",
    "    except FileNotFoundError as e:\n",
    "        print(f\"Error: File not found: {e}\")\n",
    "        return None\n",
    "\n",
    "    missing_records_df = df[df[columns_to_check].isnull().any(axis=1)]\n",
    "\n",
    "    print(f\"\\nRecords with missing '{' or '.join(columns_to_check)}':\")\n",
    "    print(missing_records_df)\n",
    "\n",
    "    # Decision on handling (you would implement your logic here)\n",
    "    print(\"\\nDecision on Handling:\")\n",
    "    print(\"Consider the impact of dropping these records. If the missing data is crucial and the number of missing records is small, consider imputation techniques (filling missing values) instead of dropping.\")\n",
    "    print(\"For 'email', if missing, you might not be able to contact the customer via email.\")\n",
    "    print(\"For 'phone number', if missing, you might not be able to contact the customer via phone.\")\n",
    "\n",
    "    # Example of dropping rows with missing 'email' or 'phone number'\n",
    "    # df_cleaned = df.dropna(subset=columns_to_check)\n",
    "    # print(\"\\nDataFrame after dropping rows with missing 'email' or 'phone number':\")\n",
    "    # print(df_cleaned)\n",
    "\n",
    "    # Example of filling missing 'email' with a placeholder\n",
    "    # df['email'].fillna('no_email_provided', inplace=True)\n",
    "    # print(\"\\nDataFrame after filling missing 'email':\")\n",
    "    # print(df.head()) # Show first few rows\n",
    "\n",
    "    return missing_records_df\n",
    "\n",
    "# Example usage:\n",
    "customer_file = 'customer_data.csv'\n",
    "columns_to_check = ['email', 'phone number']\n",
    "partially_available = handle_partially_available_records(customer_file, columns_to_check)"
   ]
  }
 ],
 "metadata": {
  "kernelspec": {
   "display_name": "Python 3",
   "language": "python",
   "name": "python3"
  },
  "language_info": {
   "codemirror_mode": {
    "name": "ipython",
    "version": 3
   },
   "file_extension": ".py",
   "mimetype": "text/x-python",
   "name": "python",
   "nbconvert_exporter": "python",
   "pygments_lexer": "ipython3",
   "version": "3.10.12"
  }
 },
 "nbformat": 4,
 "nbformat_minor": 2
}
