{
 "cells": [
  {
   "cell_type": "markdown",
   "metadata": {},
   "source": [
    "## Compare Data Completeness Over Time\n",
    "\n",
    "**Description**: Analyze the trend of missing data in `\"sales_data.csv\"` over several months stored in a \"date\" column. Visualize missing data rates by month."
   ]
  },
  {
   "cell_type": "code",
   "execution_count": 1,
   "metadata": {},
   "outputs": [
    {
     "name": "stdout",
     "output_type": "stream",
     "text": [
      "Error: File not found: [Errno 2] No such file or directory: 'sales_data.csv'\n"
     ]
    }
   ],
   "source": [
    "# Write your code from here\n",
    "import pandas as pd\n",
    "import matplotlib.pyplot as plt\n",
    "import seaborn as sns\n",
    "\n",
    "def analyze_missing_data_trend(file_path, date_column):\n",
    "    \"\"\"\n",
    "    Analyzes the trend of missing data in a CSV file over time\n",
    "    based on a date column and visualizes the missing data rates by month.\n",
    "\n",
    "    Args:\n",
    "        file_path (str): Path to the CSV file containing sales data.\n",
    "        date_column (str): Name of the column containing date information.\n",
    "\n",
    "    Returns:\n",
    "        None: Displays a plot of missing data rates by month.\n",
    "              Prints error messages if the file or date column is not found.\n",
    "    \"\"\"\n",
    "    try:\n",
    "        df = pd.read_csv(file_path)\n",
    "    except FileNotFoundError as e:\n",
    "        print(f\"Error: File not found: {e}\")\n",
    "        return None\n",
    "\n",
    "    if date_column not in df.columns:\n",
    "        print(f\"Error: Date column '{date_column}' not found in the file.\")\n",
    "        return None\n",
    "\n",
    "    # Convert the date column to datetime objects\n",
    "    df[date_column] = pd.to_datetime(df[date_column])\n",
    "\n",
    "    # Set the date column as index for easier resampling\n",
    "    df.set_index(date_column, inplace=True)\n",
    "\n",
    "    # Resample by month and calculate the percentage of missing values for each column\n",
    "    monthly_missing_percentage = df.resample('M').apply(lambda x: (x.isnull().sum() / len(x)) * 100)\n",
    "\n",
    "    # Visualize the missing data rates by month for all columns\n",
    "    plt.figure(figsize=(12, 6))\n",
    "    sns.lineplot(data=monthly_missing_percentage)\n",
    "    plt.title('Missing Data Rates by Month')\n",
    "    plt.xlabel('Month')\n",
    "    plt.ylabel('Percentage of Missing Values')\n",
    "    plt.xticks(rotation=45)\n",
    "    plt.tight_layout()\n",
    "    plt.show()\n",
    "\n",
    "# Example usage:\n",
    "sales_file = 'sales_data.csv'\n",
    "date_column_name = 'date'\n",
    "analyze_missing_data_trend(sales_file, date_column_name)"
   ]
  }
 ],
 "metadata": {
  "kernelspec": {
   "display_name": "Python 3",
   "language": "python",
   "name": "python3"
  },
  "language_info": {
   "codemirror_mode": {
    "name": "ipython",
    "version": 3
   },
   "file_extension": ".py",
   "mimetype": "text/x-python",
   "name": "python",
   "nbconvert_exporter": "python",
   "pygments_lexer": "ipython3",
   "version": "3.10.12"
  }
 },
 "nbformat": 4,
 "nbformat_minor": 2
}
