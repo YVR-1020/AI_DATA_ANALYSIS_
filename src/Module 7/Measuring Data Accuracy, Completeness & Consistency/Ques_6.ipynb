{
 "cells": [
  {
   "cell_type": "markdown",
   "metadata": {},
   "source": [
    "## Architecture to Monitor Data Quality Over Time\n",
    "\n",
    "**Description**: Design a monitoring system in Python that checks and logs data quality metrics (accuracy, completeness) for a dataset over time.\n",
    "\n",
    "**Steps to follow:**\n",
    "1. Implement a Scheduled Script:\n",
    "    - Use schedule library to periodically run a script.\n",
    "2. Script to Calculate Metrics:\n",
    "    - For simplicity, use a function calculate_quality_metrics() that calculates and logs metrics such as missing rate or mismatch rate.\n",
    "3. Store Logs:\n",
    "    - Use Python's logging library to save these metrics over time."
   ]
  },
  {
   "cell_type": "code",
   "execution_count": 1,
   "metadata": {},
   "outputs": [
    {
     "ename": "ModuleNotFoundError",
     "evalue": "No module named 'schedule'",
     "output_type": "error",
     "traceback": [
      "\u001b[0;31m---------------------------------------------------------------------------\u001b[0m",
      "\u001b[0;31mModuleNotFoundError\u001b[0m                       Traceback (most recent call last)",
      "Cell \u001b[0;32mIn[1], line 2\u001b[0m\n\u001b[1;32m      1\u001b[0m \u001b[38;5;66;03m# Write your code from here\u001b[39;00m\n\u001b[0;32m----> 2\u001b[0m \u001b[38;5;28;01mimport\u001b[39;00m\u001b[38;5;250m \u001b[39m\u001b[38;5;21;01mschedule\u001b[39;00m\n\u001b[1;32m      3\u001b[0m \u001b[38;5;28;01mimport\u001b[39;00m\u001b[38;5;250m \u001b[39m\u001b[38;5;21;01mtime\u001b[39;00m\n\u001b[1;32m      4\u001b[0m \u001b[38;5;28;01mimport\u001b[39;00m\u001b[38;5;250m \u001b[39m\u001b[38;5;21;01mlogging\u001b[39;00m\n",
      "\u001b[0;31mModuleNotFoundError\u001b[0m: No module named 'schedule'"
     ]
    }
   ],
   "source": [
    "# Write your code from here\n",
    "import schedule\n",
    "import time\n",
    "import logging\n",
    "import pandas as pd\n",
    "import numpy as np\n",
    "from datetime import datetime\n",
    "\n",
    "# Configure logging\n",
    "logging.basicConfig(filename='data_quality_log.txt', level=logging.INFO,\n",
    "                    format='%(asctime)s - %(levelname)s - %(message)s')\n",
    "\n",
    "DATASET_PATH = 'your_dataset.csv'  # Replace with the actual path to your dataset\n",
    "ACCURACY_THRESHOLD = 0.95  # Example threshold for accuracy (95%)\n",
    "COMPLETENESS_THRESHOLD = 0.90  # Example threshold for completeness (90%)\n",
    "\n",
    "def calculate_quality_metrics(file_path):\n",
    "    \"\"\"\n",
    "    Calculates and logs data quality metrics (accuracy and completeness)\n",
    "    for a given dataset.\n",
    "\n",
    "    Args:\n",
    "        file_path (str): Path to the dataset CSV file.\n",
    "    \"\"\"\n",
    "    try:\n",
    "        df = pd.read_csv(file_path)\n",
    "    except FileNotFoundError:\n",
    "        logging.error(f\"Dataset not found at: {file_path}\")\n",
    "        return\n",
    "\n",
    "    total_rows = len(df)\n",
    "\n",
    "    # --- Completeness Metric (Example: Check for missing values in key columns) ---\n",
    "    key_columns_for_completeness = ['product_id', 'customer_id', 'order_date']\n",
    "    missing_counts = df[key_columns_for_completeness].isnull().sum()\n",
    "    total_missing = missing_counts.sum()\n",
    "    completeness_rate = (1 - (total_missing / (total_rows * len(key_columns_for_completeness)))) if (total_rows * len(key_columns_for_completeness)) > 0 else 1.0\n",
    "    completeness_percentage = completeness_rate * 100\n",
    "    logging.info(f\"Completeness Rate: {completeness_percentage:.2f}% (Missing in {key_columns_for_completeness}: {missing_counts.to_dict()})\")\n",
    "\n",
    "    if completeness_rate < COMPLETENESS_THRESHOLD:\n",
    "        logging.warning(f\"Completeness below threshold ({COMPLETENESS_THRESHOLD * 100:.2f}%).\")\n",
    "\n",
    "    # --- Accuracy Metric (Example: Check for invalid values in a specific column) ---\n",
    "    price_column = 'price'\n",
    "    invalid_price_count = df[df[price_column] <= 0][price_column].count()\n",
    "    accuracy_rate = (1 - (invalid_price_count / total_rows)) if total_rows > 0 else 1.0\n",
    "    accuracy_percentage = accuracy_rate * 100\n",
    "    logging.info(f\"Accuracy Rate (Price > 0): {accuracy_percentage:.2f}% (Invalid Price Count: {invalid_price_count})\")\n",
    "\n",
    "    if accuracy_rate < ACCURACY_THRESHOLD:\n",
    "        logging.warning(f\"Accuracy below threshold ({ACCURACY_THRESHOLD * 100:.2f}%).\")\n",
    "\n",
    "def run_data_quality_check():\n",
    "    \"\"\"\n",
    "    Runs the data quality check and logs the metrics.\n",
    "    \"\"\"\n",
    "    logging.info(\"--- Starting Data Quality Check ---\")\n",
    "    calculate_quality_metrics(DATASET_PATH)\n",
    "    logging.info(\"--- Data Quality Check Finished ---\")\n",
    "\n",
    "if __name__ == \"__main__\":\n",
    "    # Schedule the data quality check to run periodically\n",
    "    schedule.every().day.at(\"03:00\").do(run_data_quality_check)  # Run daily at 3:00 AM\n",
    "    # schedule.every(1).hour.do(run_data_quality_check)        # Run every hour\n",
    "    # schedule.every(5).minutes.do(run_data_quality_check)     # Run every 5 minutes\n",
    "\n",
    "    logging.info(\"Data Quality Monitoring Service Started. Checks scheduled.\")\n",
    "    while True:\n",
    "        schedule.run_pending()\n",
    "        time.sleep(1)"
   ]
  }
 ],
 "metadata": {
  "kernelspec": {
   "display_name": "Python 3",
   "language": "python",
   "name": "python3"
  },
  "language_info": {
   "codemirror_mode": {
    "name": "ipython",
    "version": 3
   },
   "file_extension": ".py",
   "mimetype": "text/x-python",
   "name": "python",
   "nbconvert_exporter": "python",
   "pygments_lexer": "ipython3",
   "version": "3.10.12"
  }
 },
 "nbformat": 4,
 "nbformat_minor": 2
}
