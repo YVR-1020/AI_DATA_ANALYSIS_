{
 "cells": [
  {
   "cell_type": "markdown",
   "metadata": {},
   "source": [
    "# Measuring Completeness\n",
    "\n",
    "**Activity Overview**: Evaluate data completeness by checking missing data rates and handling partially available records.\n",
    "\n",
    "## Title: Customer Profiles\n",
    "\n",
    "**Task**: Calculate the missing data rate for customer profiles.\n",
    "\n",
    "**Steps**:\n",
    "1. List all required fields for a complete customer profile (e.g., name, address, email,\n",
    "phone number).\n",
    "2. Analyze the dataset to count how many profiles have missing fields.\n",
    "3. Calculate the percentage of missing data fields across all profiles."
   ]
  },
  {
   "cell_type": "code",
   "execution_count": 2,
   "metadata": {},
   "outputs": [
    {
     "name": "stdout",
     "output_type": "stream",
     "text": [
      "Error: File not found at 'customer_profiles.csv'\n"
     ]
    }
   ],
   "source": [
    "# Write your code from here\n",
    "import pandas as pd\n",
    "\n",
    "def calculate_customer_profile_missing_rate(file_path, required_fields):\n",
    "    \"\"\"\n",
    "    Calculates the missing data rate for customer profiles based on a list\n",
    "    of required fields.\n",
    "\n",
    "    Args:\n",
    "        file_path (str): Path to the CSV file containing customer profiles.\n",
    "        required_fields (list): A list of column names that are considered\n",
    "                                required for a complete customer profile\n",
    "                                (e.g., ['name', 'address', 'email', 'phone_number']).\n",
    "\n",
    "    Returns:\n",
    "        float: The overall percentage of missing data across all specified\n",
    "               required fields and all customer profiles. Returns None if\n",
    "               the file is not found or if any of the required fields\n",
    "               are missing from the dataset.\n",
    "    \"\"\"\n",
    "    try:\n",
    "        df = pd.read_csv(file_path)\n",
    "    except FileNotFoundError:\n",
    "        print(f\"Error: File not found at '{file_path}'\")\n",
    "        return None\n",
    "\n",
    "    missing_cols = [field for field in required_fields if field not in df.columns]\n",
    "    if missing_cols:\n",
    "        print(f\"Error: Required fields not found in the dataset: {missing_cols}\")\n",
    "        return None\n",
    "\n",
    "    total_profiles = len(df)\n",
    "    total_required_fields = len(required_fields)\n",
    "    total_missing_values = df[required_fields].isnull().sum().sum()\n",
    "    total_expected_values = total_profiles * total_required_fields\n",
    "\n",
    "    if total_expected_values == 0:\n",
    "        return 0.0\n",
    "\n",
    "    overall_missing_rate = (total_missing_values / total_expected_values) * 100\n",
    "    return overall_missing_rate\n",
    "\n",
    "# Example usage:\n",
    "customer_file = 'customer_profiles.csv'\n",
    "required_customer_info = ['name', 'address', 'email', 'phone_number']\n",
    "missing_rate = calculate_customer_profile_missing_rate(customer_file, required_customer_info)\n",
    "\n",
    "if missing_rate is not None:\n",
    "    print(f\"Overall Missing Data Rate for Customer Profiles: {missing_rate:.2f}%\")\n",
    "\n",
    "    # Optional: Analyze missing profiles\n",
    "    df_customers = pd.read_csv(customer_file)\n",
    "    profiles_with_missing = df_customers[df_customers[required_customer_info].isnull().any(axis=1)]\n",
    "    num_profiles_with_missing = len(profiles_with_missing)\n",
    "    total_profiles = len(df_customers)\n",
    "    percentage_profiles_with_missing = (num_profiles_with_missing / total_profiles) * 100 if total_profiles > 0 else 0\n",
    "    print(f\"Number of Customer Profiles with Missing Required Fields: {num_profiles_with_missing} out of {total_profiles} ({percentage_profiles_with_missing:.2f}%)\")"
   ]
  }
 ],
 "metadata": {
  "kernelspec": {
   "display_name": "Python 3",
   "language": "python",
   "name": "python3"
  },
  "language_info": {
   "codemirror_mode": {
    "name": "ipython",
    "version": 3
   },
   "file_extension": ".py",
   "mimetype": "text/x-python",
   "name": "python",
   "nbconvert_exporter": "python",
   "pygments_lexer": "ipython3",
   "version": "3.10.12"
  }
 },
 "nbformat": 4,
 "nbformat_minor": 2
}
