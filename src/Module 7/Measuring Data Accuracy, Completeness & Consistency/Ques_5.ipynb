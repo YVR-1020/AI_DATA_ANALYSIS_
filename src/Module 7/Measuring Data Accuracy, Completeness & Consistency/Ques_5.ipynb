{
 "cells": [
  {
   "cell_type": "markdown",
   "metadata": {},
   "source": [
    "## Validate Data Completeness for Critical Fields\n",
    "\n",
    "**Description**: In `transaction_data.csv` , calculate the missing percentage of critical fields: \"transaction_id\", \"amount\", and \"date\", and visualize them."
   ]
  },
  {
   "cell_type": "code",
   "execution_count": 1,
   "metadata": {},
   "outputs": [
    {
     "name": "stdout",
     "output_type": "stream",
     "text": [
      "Error: File not found: [Errno 2] No such file or directory: 'transaction_data.csv'\n"
     ]
    }
   ],
   "source": [
    "# Write your code from here\n",
    "import pandas as pd\n",
    "import matplotlib.pyplot as plt\n",
    "import seaborn as sns\n",
    "\n",
    "def validate_completeness_critical_fields(file_path, critical_fields):\n",
    "    \"\"\"\n",
    "    Calculates and visualizes the missing percentage of specified critical fields\n",
    "    in a CSV file.\n",
    "\n",
    "    Args:\n",
    "        file_path (str): Path to the CSV file (e.g., 'transaction_data.csv').\n",
    "        critical_fields (list): A list of column names considered critical.\n",
    "\n",
    "    Returns:\n",
    "        pandas.DataFrame: A DataFrame showing the missing percentage for each\n",
    "                          critical field. Returns None if the file is not found\n",
    "                          or any of the critical fields are missing.\n",
    "    \"\"\"\n",
    "    try:\n",
    "        df = pd.read_csv(file_path)\n",
    "    except FileNotFoundError as e:\n",
    "        print(f\"Error: File not found: {e}\")\n",
    "        return None\n",
    "\n",
    "    missing_fields = [field for field in critical_fields if field not in df.columns]\n",
    "    if missing_fields:\n",
    "        print(f\"Error: Critical fields not found in the file: {missing_fields}\")\n",
    "        return None\n",
    "\n",
    "    missing_percentages = {}\n",
    "    for field in critical_fields:\n",
    "        missing_count = df[field].isnull().sum()\n",
    "        total_count = len(df)\n",
    "        missing_percentage = (missing_count / total_count) * 100\n",
    "        missing_percentages[field] = missing_percentage\n",
    "\n",
    "    missing_df = pd.DataFrame(list(missing_percentages.items()), columns=['Critical Field', 'Missing Percentage'])\n",
    "\n",
    "    # Visualize the missing percentages\n",
    "    plt.figure(figsize=(8, 6))\n",
    "    sns.barplot(x='Critical Field', y='Missing Percentage', data=missing_df)\n",
    "    plt.title('Missing Data Percentage for Critical Fields')\n",
    "    plt.ylabel('Missing Percentage (%)')\n",
    "    plt.xticks(rotation=45, ha='right')\n",
    "    plt.tight_layout()\n",
    "    plt.show()\n",
    "\n",
    "    return missing_df\n",
    "\n",
    "# Example usage:\n",
    "transaction_file = 'transaction_data.csv'\n",
    "critical_columns = ['transaction_id', 'amount', 'date']\n",
    "missing_data_report = validate_completeness_critical_fields(transaction_file, critical_columns)\n",
    "\n",
    "if missing_data_report is not None:\n",
    "    print(\"\\nMissing Data Percentage for Critical Fields:\")\n",
    "    print(missing_data_report)"
   ]
  }
 ],
 "metadata": {
  "kernelspec": {
   "display_name": "Python 3",
   "language": "python",
   "name": "python3"
  },
  "language_info": {
   "codemirror_mode": {
    "name": "ipython",
    "version": 3
   },
   "file_extension": ".py",
   "mimetype": "text/x-python",
   "name": "python",
   "nbconvert_exporter": "python",
   "pygments_lexer": "ipython3",
   "version": "3.10.12"
  }
 },
 "nbformat": 4,
 "nbformat_minor": 2
}
