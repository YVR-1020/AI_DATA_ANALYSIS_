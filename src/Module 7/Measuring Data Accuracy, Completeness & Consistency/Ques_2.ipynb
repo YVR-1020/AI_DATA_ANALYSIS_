{
 "cells": [
  {
   "cell_type": "markdown",
   "metadata": {},
   "source": [
    "## Find Conflicting Values Across Datasets\n",
    "\n",
    "**Description**: You have two datasets: `crm_customers.csv` and `erp_customers.csv` . Find customers with conflicting \"email\" information."
   ]
  },
  {
   "cell_type": "code",
   "execution_count": 1,
   "metadata": {},
   "outputs": [
    {
     "name": "stdout",
     "output_type": "stream",
     "text": [
      "Error: One or both files not found: [Errno 2] No such file or directory: 'crm_customers.csv'\n"
     ]
    }
   ],
   "source": [
    "# Write your code from here\n",
    "import pandas as pd\n",
    "\n",
    "def find_conflicting_emails(crm_file, erp_file):\n",
    "    \"\"\"\n",
    "    Finds customers with conflicting email information across two datasets.\n",
    "\n",
    "    Args:\n",
    "        crm_file (str): Path to the CRM customers CSV file.\n",
    "        erp_file (str): Path to the ERP customers CSV file.\n",
    "\n",
    "    Returns:\n",
    "        pandas.DataFrame: A DataFrame showing customers with different email\n",
    "                          addresses in the two files, merged on a common identifier\n",
    "                          (assuming 'customer_id'). Returns None if files are\n",
    "                          not found or 'customer_id' or 'email' columns are missing.\n",
    "    \"\"\"\n",
    "    try:\n",
    "        crm_df = pd.read_csv(crm_file)\n",
    "        erp_df = pd.read_csv(erp_file)\n",
    "    except FileNotFoundError as e:\n",
    "        print(f\"Error: One or both files not found: {e}\")\n",
    "        return None\n",
    "\n",
    "    # Assuming both DataFrames have a common identifier like 'customer_id'\n",
    "    if 'customer_id' not in crm_df.columns or 'customer_id' not in erp_df.columns:\n",
    "        print(\"Error: Both files must have a 'customer_id' column for merging.\")\n",
    "        return None\n",
    "\n",
    "    if 'email' not in crm_df.columns or 'email' not in erp_df.columns:\n",
    "        print(\"Error: Both files must have an 'email' column to find conflicts.\")\n",
    "        return None\n",
    "\n",
    "    # Merge the two DataFrames on 'customer_id'\n",
    "    merged_df = pd.merge(crm_df, erp_df, on='customer_id', suffixes=('_crm', '_erp'))\n",
    "\n",
    "    # Identify rows where the email addresses are different\n",
    "    conflicting_emails_df = merged_df[merged_df['email_crm'] != merged_df['email_erp']]\n",
    "\n",
    "    return conflicting_emails_df\n",
    "\n",
    "# Example usage:\n",
    "crm_file = 'crm_customers.csv'\n",
    "erp_file = 'erp_customers.csv'\n",
    "conflicts_df = find_conflicting_emails(crm_file, erp_file)\n",
    "\n",
    "if conflicts_df is not None:\n",
    "    print(\"Customers with Conflicting Email Information:\")\n",
    "    print(conflicts_df)"
   ]
  }
 ],
 "metadata": {
  "kernelspec": {
   "display_name": "Python 3",
   "language": "python",
   "name": "python3"
  },
  "language_info": {
   "codemirror_mode": {
    "name": "ipython",
    "version": 3
   },
   "file_extension": ".py",
   "mimetype": "text/x-python",
   "name": "python",
   "nbconvert_exporter": "python",
   "pygments_lexer": "ipython3",
   "version": "3.10.12"
  }
 },
 "nbformat": 4,
 "nbformat_minor": 2
}
