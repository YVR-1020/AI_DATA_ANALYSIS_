{
 "cells": [
  {
   "cell_type": "markdown",
   "metadata": {},
   "source": [
    "## Advanced Consistency Check with Hierarchical Data\n",
    "\n",
    "**Description**: You have two datasets `orders.csv` and `order_items.csv` . Perform a consistency check to ensure each order in `orders.csv` has corresponding items in `order_items.csv` ."
   ]
  },
  {
   "cell_type": "code",
   "execution_count": 1,
   "metadata": {},
   "outputs": [
    {
     "name": "stdout",
     "output_type": "stream",
     "text": [
      "Error: One or both files not found: [Errno 2] No such file or directory: 'orders.csv'\n"
     ]
    }
   ],
   "source": [
    "# Write your code from here\n",
    "import pandas as pd\n",
    "\n",
    "def check_order_item_consistency(orders_file, order_items_file, order_id_col='order_id'):\n",
    "    \"\"\"\n",
    "    Performs a consistency check to ensure each order in the orders file\n",
    "    has corresponding items in the order_items file.\n",
    "\n",
    "    Args:\n",
    "        orders_file (str): Path to the orders CSV file.\n",
    "        order_items_file (str): Path to the order items CSV file.\n",
    "        order_id_col (str, optional): Name of the common order ID column.\n",
    "                                       Defaults to 'order_id'.\n",
    "\n",
    "    Returns:\n",
    "        pandas.DataFrame: A DataFrame containing order IDs from the orders file\n",
    "                          that do not have any corresponding entries in the\n",
    "                          order_items file. Returns None if files are not found\n",
    "                          or the order ID column is missing.\n",
    "    \"\"\"\n",
    "    try:\n",
    "        orders_df = pd.read_csv(orders_file)\n",
    "        order_items_df = pd.read_csv(order_items_file)\n",
    "    except FileNotFoundError as e:\n",
    "        print(f\"Error: One or both files not found: {e}\")\n",
    "        return None\n",
    "\n",
    "    if order_id_col not in orders_df.columns or order_id_col not in order_items_df.columns:\n",
    "        print(f\"Error: Order ID column '{order_id_col}' not found in one or both files.\")\n",
    "        return None\n",
    "\n",
    "    # Get the set of all order IDs from both files\n",
    "    all_orders = set(orders_df[order_id_col].unique())\n",
    "    orders_with_items = set(order_items_df[order_id_col].unique())\n",
    "\n",
    "    # Find order IDs that are in the orders file but not in the order items file\n",
    "    orders_without_items = pd.DataFrame(list(all_orders - orders_with_items), columns=[order_id_col])\n",
    "\n",
    "    return orders_without_items\n",
    "\n",
    "# Example usage:\n",
    "orders_file = 'orders.csv'\n",
    "order_items_file = 'order_items.csv'\n",
    "missing_item_orders = check_order_item_consistency(orders_file, order_items_file)\n",
    "\n",
    "if missing_item_orders is not None:\n",
    "    if missing_item_orders.empty:\n",
    "        print(\"Consistency Check Passed: All orders in 'orders.csv' have corresponding items in 'order_items.csv'.\")\n",
    "    else:\n",
    "        print(\"Inconsistency Found: The following orders in 'orders.csv' do not have any corresponding items in 'order_items.csv':\")\n",
    "        print(missing_item_orders)"
   ]
  }
 ],
 "metadata": {
  "kernelspec": {
   "display_name": "Python 3",
   "language": "python",
   "name": "python3"
  },
  "language_info": {
   "codemirror_mode": {
    "name": "ipython",
    "version": 3
   },
   "file_extension": ".py",
   "mimetype": "text/x-python",
   "name": "python",
   "nbconvert_exporter": "python",
   "pygments_lexer": "ipython3",
   "version": "3.10.12"
  }
 },
 "nbformat": 4,
 "nbformat_minor": 2
}
