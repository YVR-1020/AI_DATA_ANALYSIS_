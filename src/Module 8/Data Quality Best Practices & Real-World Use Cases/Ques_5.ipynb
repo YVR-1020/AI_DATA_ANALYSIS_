{
 "cells": [
  {
   "cell_type": "markdown",
   "metadata": {},
   "source": [
    "### AI/ML – Improving Model Performance with Clean Data\n",
    "\n",
    "**Task 1**: Data Preprocessing for Models\n",
    "\n",
    "**Objective**: Enhance data quality for better AI/ML outcomes.\n",
    "\n",
    "**Steps**:\n",
    "1. Choose a dataset for training an AI/ML model.\n",
    "2. Identify common data issues like null values, redundant features, or noisydata.\n",
    "3. Apply preprocessing methods such as imputation, normalization, or feature engineering."
   ]
  },
  {
   "cell_type": "code",
   "execution_count": 1,
   "metadata": {},
   "outputs": [
    {
     "name": "stdout",
     "output_type": "stream",
     "text": [
      "CSV file 'sample_transactions.csv' created successfully!\n"
     ]
    }
   ],
   "source": [
    "# Write your code from here\n",
    "import pandas as pd\n",
    "import numpy as np\n",
    "\n",
    "# Sample data for transactions\n",
    "data = {\n",
    "    'transaction_id': [101, 102, 103, 104, 105, 106],\n",
    "    'transaction_amount': [250.75, 500.10, 150.00, np.nan, 1200.50, 300.00],\n",
    "    'customer_age': [25, 34, 28, 45, 31, 22],\n",
    "    'transaction_date': ['2025-05-01', '2025-05-02', '2025-05-03', '2025-05-04', '2025-05-05', '2025-05-06'],\n",
    "    'status': ['completed', 'completed', 'failed', 'completed', 'completed', 'failed']\n",
    "}\n",
    "\n",
    "# Create a DataFrame\n",
    "df = pd.DataFrame(data)\n",
    "\n",
    "# Save to CSV file\n",
    "df.to_csv('sample_transactions.csv', index=False)\n",
    "\n",
    "print(\"CSV file 'sample_transactions.csv' created successfully!\")"
   ]
  },
  {
   "cell_type": "markdown",
   "metadata": {},
   "source": [
    "**Task 2**: Evaluate Model Performance\n",
    "\n",
    "**Objective**: Assess the impact of data quality improvements on model performance.\n",
    "\n",
    "**Steps**:\n",
    "1. Train a simple ML model with and without preprocessing.\n",
    "2. Analyze and compare model performance metrics to evaluate the impact of data quality strategies."
   ]
  },
  {
   "cell_type": "code",
   "execution_count": 2,
   "metadata": {},
   "outputs": [
    {
     "name": "stdout",
     "output_type": "stream",
     "text": [
      "Processed DataFrame:\n",
      "    transaction_id  transaction_amount  customer_age transaction_date  \\\n",
      "0        -1.46385           -0.665635     -0.785575       2025-05-01   \n",
      "1        -0.87831            0.057509      0.426455       2025-05-02   \n",
      "2        -0.29277           -0.957821     -0.381565       2025-05-03   \n",
      "3         0.29277            0.000000      1.907826       2025-05-04   \n",
      "4         0.87831            2.088750      0.022445       2025-05-05   \n",
      "5         1.46385           -0.522804     -1.189585       2025-05-06   \n",
      "\n",
      "      status  transaction_per_age  \n",
      "0  completed             0.847321  \n",
      "1  completed             0.134854  \n",
      "2     failed             2.510243  \n",
      "3  completed             0.000000  \n",
      "4  completed            93.060801  \n",
      "5     failed             0.439484  \n"
     ]
    }
   ],
   "source": [
    "# Write your code from here\n",
    "import pandas as pd\n",
    "from sklearn.impute import SimpleImputer\n",
    "from sklearn.preprocessing import StandardScaler\n",
    "import numpy as np\n",
    "\n",
    "# Sample data for transactions\n",
    "data = {\n",
    "    'transaction_id': [101, 102, 103, 104, 105, 106],\n",
    "    'transaction_amount': [250.75, 500.10, 150.00, np.nan, 1200.50, 300.00],\n",
    "    'customer_age': [25, 34, 28, 45, 31, 22],\n",
    "    'transaction_date': ['2025-05-01', '2025-05-02', '2025-05-03', '2025-05-04', '2025-05-05', '2025-05-06'],\n",
    "    'status': ['completed', 'completed', 'failed', 'completed', 'completed', 'failed']\n",
    "}\n",
    "\n",
    "# Create a DataFrame\n",
    "df = pd.DataFrame(data)\n",
    "\n",
    "# Step 1: Identify numerical columns for imputation\n",
    "numerical_columns = df.select_dtypes(include=['float64', 'int64']).columns\n",
    "\n",
    "# Step 2: Handle missing values (Imputation only on numerical columns)\n",
    "imputer = SimpleImputer(strategy='mean')  # Imputing missing values with the mean\n",
    "df[numerical_columns] = imputer.fit_transform(df[numerical_columns])\n",
    "\n",
    "# Step 3: Normalize the numerical columns (Standardization)\n",
    "scaler = StandardScaler()\n",
    "df[numerical_columns] = scaler.fit_transform(df[numerical_columns])\n",
    "\n",
    "# Step 4: Feature Engineering (Example: Create a new feature from existing ones)\n",
    "df['transaction_per_age'] = df['transaction_amount'] / df['customer_age']\n",
    "\n",
    "# Check the processed data\n",
    "print(\"Processed DataFrame:\\n\", df)\n",
    "\n",
    "# Save processed data to a new CSV file\n",
    "df.to_csv('processed_transactions.csv', index=False)"
   ]
  }
 ],
 "metadata": {
  "kernelspec": {
   "display_name": "Python 3",
   "language": "python",
   "name": "python3"
  },
  "language_info": {
   "codemirror_mode": {
    "name": "ipython",
    "version": 3
   },
   "file_extension": ".py",
   "mimetype": "text/x-python",
   "name": "python",
   "nbconvert_exporter": "python",
   "pygments_lexer": "ipython3",
   "version": "3.10.12"
  }
 },
 "nbformat": 4,
 "nbformat_minor": 2
}
