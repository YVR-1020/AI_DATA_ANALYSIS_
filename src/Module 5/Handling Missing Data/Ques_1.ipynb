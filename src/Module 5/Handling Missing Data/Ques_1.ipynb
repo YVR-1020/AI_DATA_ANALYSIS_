{
 "cells": [
  {
   "cell_type": "code",
   "execution_count": 1,
   "metadata": {},
   "outputs": [],
   "source": [
    "# Question: Introduction to Missing Data in a DataFrame\n",
    "# Description: Load a simple CSV file into a DataFrame and identify missing values.\n",
    "\n",
    "# Steps to follow:\n",
    "# 1. Load the data: Use the pandas library to read a CSV file.\n",
    "# 2. Check for missing values: Use the isnull() method to find missing values.\n",
    "# 3. Summarize missing data: Use the sum() function to count the number of missing values in each column.\n",
    "\n",
    "import pandas as pd\n",
    "from sklearn.impute import KNNImputer\n",
    "from sklearn.linear_model import LinearRegression\n",
    "\n",
    "def load_data(file_path):\n",
    "    return pd.read_csv(file_path)\n",
    "\n",
    "def detect_missing(df):\n",
    "    print(\"Missing values per column:\\n\", df.isnull().sum())\n",
    "\n",
    "def drop_missing_rows(df):\n",
    "    return df.dropna()\n",
    "\n",
    "def drop_missing_columns(df):\n",
    "    return df.dropna(axis=1)\n",
    "\n",
    "def mean_imputation(df, column):\n",
    "    if column in df.columns:\n",
    "        df[column] = df[column].fillna(df[column].mean())\n",
    "    return df\n",
    "\n",
    "def median_imputation(df, column):\n",
    "    if column in df.columns:\n",
    "        df[column] = df[column].fillna(df[column].median())\n",
    "    return df\n",
    "\n",
    "def mode_imputation(df, column):\n",
    "    if column in df.columns:\n",
    "        mode_val = df[column].mode()\n",
    "        if not mode_val.empty:\n",
    "            df[column] = df[column].fillna(mode_val[0])\n",
    "    return df\n",
    "\n",
    "def knn_imputation(df, n_neighbors=3):\n",
    "    numeric = df.select_dtypes(include='number')\n",
    "    missing_cols = numeric.columns[numeric.isnull().any()]\n",
    "    if not missing_cols.empty:\n",
    "        imputer = KNNImputer(n_neighbors=n_neighbors)\n",
    "        numeric[missing_cols] = imputer.fit_transform(numeric[missing_cols])\n",
    "        df[numeric.columns] = numeric\n",
    "    return df\n",
    "\n",
    "def predictive_imputation(df, target):\n",
    "    if target not in df.columns or not df[target].isnull().any():\n",
    "        return df\n",
    "\n",
    "    feature_candidates = df.select_dtypes(include='number').drop(columns=[target]).columns\n",
    "    non_missing = df[df[target].notnull()].dropna(subset=feature_candidates)\n",
    "    to_predict = df[df[target].isnull()]\n",
    "    \n",
    "    if non_missing.empty or to_predict.empty:\n",
    "        return df\n",
    "\n",
    "    model = LinearRegression()\n",
    "    model.fit(non_missing[feature_candidates], non_missing[target])\n",
    "    \n",
    "    to_predict = to_predict.copy()\n",
    "    for col in feature_candidates:\n",
    "        if to_predict[col].isnull().any():\n",
    "            to_predict[col] = to_predict[col].fillna(non_missing[col].mean())\n",
    "    \n",
    "    df.loc[df[target].isnull(), target] = model.predict(to_predict[feature_candidates])\n",
    "    return df\n",
    "\n",
    "def time_series_fill(df, date_col, value_col):\n",
    "    if date_col in df.columns and value_col in df.columns:\n",
    "        df = df.sort_values(date_col)\n",
    "        df[value_col] = df[value_col].fillna(method='ffill').fillna(method='bfill')\n",
    "    return df\n"
   ]
  },
  {
   "cell_type": "code",
   "execution_count": null,
   "metadata": {},
   "outputs": [],
   "source": [
    "# Question: Dropping Rows with Missing Values\n",
    "# Description: Practice the deletion method by removing rows with any missing values from a dataset.\n",
    "\n",
    "# Steps to follow:\n",
    "# 1. Use dropna() method: Use the dropna() method to remove rows with missing values."
   ]
  },
  {
   "cell_type": "code",
   "execution_count": null,
   "metadata": {},
   "outputs": [],
   "source": [
    "# Question: Dropping Columns with Missing Values\n",
    "# Description: Practice deleting entire columns that contain missing values.\n",
    "\n",
    "# Steps to follow:\n",
    "# 1. Use dropna() with axis parameter: Set axis=1 in dropna() to remove columns with missing values.\n",
    "\n"
   ]
  },
  {
   "cell_type": "code",
   "execution_count": null,
   "metadata": {},
   "outputs": [],
   "source": [
    "# Question: Mean Imputation for Numerical Data\n",
    "# Description: Fill missing values in a numerical column with the mean of that column.\n",
    "\n",
    "# Steps to follow:\n",
    "# 1. Calculate mean and fill NA: Use mean() to calculate and fillna() to fill the missing values.\n",
    "\n"
   ]
  },
  {
   "cell_type": "code",
   "execution_count": null,
   "metadata": {},
   "outputs": [],
   "source": [
    "# Question: Mode Imputation for Categorical Data\n",
    "# Description: Fill missing values in a categorical column with the mode of that column.\n",
    "\n",
    "# Steps to follow:\n",
    "# 1. Calculate mode and fill NA: Use mode() to find the most frequent value and fillna() to fill the missing values.\n",
    "\n"
   ]
  },
  {
   "cell_type": "code",
   "execution_count": null,
   "metadata": {},
   "outputs": [],
   "source": [
    "# Question: Median Imputation for Skewed Data\n",
    "# Description: Handle missing values in columns with a skewed distribution using the median.\n",
    "\n",
    "# Steps to follow:\n",
    "# 1. Calculate median and fill NA: Use median() for skewed data and fillna() to handle missing values.\n",
    "\n"
   ]
  },
  {
   "cell_type": "code",
   "execution_count": null,
   "metadata": {},
   "outputs": [],
   "source": [
    "# Question: KNN Imputation\n",
    "# Description: Use K-Nearest Neighbors to impute missing values in a dataset.\n",
    "\n",
    "# Steps to follow:\n",
    "# 1. Install and import required libraries: Use pip install sklearn if not already installed.\n",
    "# 2. KNN Imputer: Use KNNImputer to fill in missing values.\n",
    "\n"
   ]
  },
  {
   "cell_type": "code",
   "execution_count": null,
   "metadata": {},
   "outputs": [],
   "source": [
    "# Question: Detecting and Handling Missing Categorical Data\n",
    "# Description: Detect missing categorical data and handle it by filling with the next frequent category.\n",
    "\n",
    "# Steps to follow:\n",
    "# 1. Identify missing values in categorical data: Use the isnull() method on categorical columns.\n",
    "# 2. Impute with next frequent category: Use the mode() method to choose the next frequent category.\n",
    "\n"
   ]
  },
  {
   "cell_type": "code",
   "execution_count": null,
   "metadata": {},
   "outputs": [],
   "source": [
    "# Question: Predictive Modeling for Imputation\n",
    "# Description: Use a predictive model to impute missing values for a particular feature using other features.\n",
    "\n",
    "# Steps to follow:\n",
    "# 1. Partition the data: Split the dataset into train and test based on the presence of missing values.\n",
    "# 2. Train a model: Use a regression model to predict missing values.\n",
    "# 3. Impute missing values with predictions.\n",
    "\n",
    "\n"
   ]
  },
  {
   "cell_type": "code",
   "execution_count": null,
   "metadata": {},
   "outputs": [],
   "source": [
    "# Question: Handling Time Series Data with Forward and Backward Fill\n",
    "# Description: Impute missing values in a time series dataset using forward and backward fill methods.\n",
    "\n",
    "# Steps to follow:\n",
    "# 1. Sort the data: Ensure the dataset is sorted by dates.\n",
    "# 2. Use fillna() with method parameter: Apply ffill() and bfill() for forward and backward fill.\n",
    "\n"
   ]
  }
 ],
 "metadata": {
  "kernelspec": {
   "display_name": "Python 3",
   "language": "python",
   "name": "python3"
  },
  "language_info": {
   "codemirror_mode": {
    "name": "ipython",
    "version": 3
   },
   "file_extension": ".py",
   "mimetype": "text/x-python",
   "name": "python",
   "nbconvert_exporter": "python",
   "pygments_lexer": "ipython3",
   "version": "3.10.12"
  }
 },
 "nbformat": 4,
 "nbformat_minor": 2
}
