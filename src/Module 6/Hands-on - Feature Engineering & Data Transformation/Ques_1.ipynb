{
 "cells": [
  {
   "cell_type": "code",
   "execution_count": null,
   "metadata": {},
   "outputs": [
    {
     "name": "stdout",
     "output_type": "stream",
     "text": [
      "Error: sales_data.csv not found. Please make sure the file is in the correct directory.\n"
     ]
    },
    {
     "ename": "NameError",
     "evalue": "name 'df' is not defined",
     "output_type": "error",
     "traceback": [
      "\u001b[0;31m---------------------------------------------------------------------------\u001b[0m",
      "\u001b[0;31mNameError\u001b[0m                                 Traceback (most recent call last)",
      "Cell \u001b[0;32mIn[1], line 37\u001b[0m\n\u001b[1;32m     34\u001b[0m     exit()\n\u001b[1;32m     36\u001b[0m \u001b[38;5;66;03m# Ensure the column exists\u001b[39;00m\n\u001b[0;32m---> 37\u001b[0m \u001b[38;5;28;01mif\u001b[39;00m \u001b[38;5;124m'\u001b[39m\u001b[38;5;124mMonthly_Sales\u001b[39m\u001b[38;5;124m'\u001b[39m \u001b[38;5;129;01mnot\u001b[39;00m \u001b[38;5;129;01min\u001b[39;00m \u001b[43mdf\u001b[49m\u001b[38;5;241m.\u001b[39mcolumns:\n\u001b[1;32m     38\u001b[0m     \u001b[38;5;28mprint\u001b[39m(\u001b[38;5;124m\"\u001b[39m\u001b[38;5;124mError: \u001b[39m\u001b[38;5;124m'\u001b[39m\u001b[38;5;124mMonthly_Sales\u001b[39m\u001b[38;5;124m'\u001b[39m\u001b[38;5;124m column not found in the dataset.\u001b[39m\u001b[38;5;124m\"\u001b[39m)\n\u001b[1;32m     39\u001b[0m     exit()\n",
      "\u001b[0;31mNameError\u001b[0m: name 'df' is not defined"
     ]
    },
    {
     "ename": "",
     "evalue": "",
     "output_type": "error",
     "traceback": [
      "\u001b[1;31mThe Kernel crashed while executing code in the current cell or a previous cell. \n",
      "\u001b[1;31mPlease review the code in the cell(s) to identify a possible cause of the failure. \n",
      "\u001b[1;31mClick <a href='https://aka.ms/vscodeJupyterKernelCrash'>here</a> for more info. \n",
      "\u001b[1;31mView Jupyter <a href='command:jupyter.viewOutput'>log</a> for further details."
     ]
    }
   ],
   "source": [
    "# Detect & Remove Outliers using IQR Method\n",
    "\n",
    "# Objective: Learn to identify and remove outliers from a dataset using the Interquartile Range (IQR) method.\n",
    "# Instructions:\n",
    "# For each example, perform the following steps:\n",
    "#     1. Load the Dataset: Load the dataset into your environment. You can use pandas to read the CSV file.\n",
    "#     2. Calculate IQR: Calculate the first quartile (Q1), third quartile (Q3), and the IQR for the specified column.\n",
    "#     3. Identify Outliers: Determine which data points are considered outliers.\n",
    "#     4. Remove Outliers: Remove the outliers from the dataset.\n",
    "#     5. Verify: Ensure the outliers are removed by checking the size or summary statistics of the dataset before and after the removal.\n",
    "    \n",
    "    \n",
    "    \n",
    "\n",
    "# Task:\n",
    "#     Dataset: sales_data.csv(get it by your own it includes the column of Monthly_Sales)\n",
    "#     Column to analyze: Monthly_Sales\n",
    "#     Steps:\n",
    "#         1. Load sales_data.csv .\n",
    "#         2. Calculate Q1, Q3, and IQR for Monthly_Sales .\n",
    "#         3. Identify outliers.\n",
    "#         4. Remove the outliers.\n",
    "#         5. Check the number of rows removed.\n",
    "\n",
    "\n",
    "\n",
    "import pandas as pd\n",
    "\n",
    "# 1. Load sales_data.csv\n",
    "try:\n",
    "    df = pd.read_csv('sales_data.csv')\n",
    "except FileNotFoundError:\n",
    "    print(\"Error: sales_data.csv not found. Please make sure the file is in the correct directory.\")\n",
    "    exit()\n",
    "\n",
    "# Ensure the column exists\n",
    "if 'Monthly_Sales' not in df.columns:\n",
    "    print(\"Error: 'Monthly_Sales' column not found in the dataset.\")\n",
    "    exit()\n",
    "\n",
    "# 2. Calculate Q1, Q3, and IQR for Monthly_Sales\n",
    "Q1 = df['Monthly_Sales'].quantile(0.25)\n",
    "Q3 = df['Monthly_Sales'].quantile(0.75)\n",
    "IQR = Q3 - Q1\n",
    "\n",
    "# 3. Identify outliers\n",
    "lower_bound = Q1 - 1.5 * IQR\n",
    "upper_bound = Q3 + 1.5 * IQR\n",
    "outliers = df[(df['Monthly_Sales'] < lower_bound) | (df['Monthly_Sales'] > upper_bound)]\n",
    "\n",
    "# 4. Remove the outliers\n",
    "df_cleaned = df[~((df['Monthly_Sales'] < lower_bound) | (df['Monthly_Sales'] > upper_bound))]\n",
    "\n",
    "# 5. Check the number of rows removed\n",
    "rows_removed = len(df) - len(df_cleaned)\n",
    "print(f\"Original number of rows: {len(df)}\")\n",
    "print(f\"Number of rows after removing outliers: {len(df_cleaned)}\")\n",
    "print(f\"Number of rows removed (outliers): {rows_removed}\")\n",
    "\n",
    "# Optional: Display the identified outliers\n",
    "print(\"\\nIdentified Outliers:\")\n",
    "print(outliers)\n",
    "\n",
    "# Optional: Display summary statistics before and after outlier removal\n",
    "print(\"\\nSummary Statistics (Monthly_Sales) Before Outlier Removal:\")\n",
    "print(df['Monthly_Sales'].describe())\n",
    "\n",
    "print(\"\\nSummary Statistics (Monthly_Sales) After Outlier Removal:\")\n",
    "print(df_cleaned['Monthly_Sales'].describe())\n",
    "\n"
   ]
  }
 ],
 "metadata": {
  "kernelspec": {
   "display_name": "Python 3",
   "language": "python",
   "name": "python3"
  },
  "language_info": {
   "codemirror_mode": {
    "name": "ipython",
    "version": 3
   },
   "file_extension": ".py",
   "mimetype": "text/x-python",
   "name": "python",
   "nbconvert_exporter": "python",
   "pygments_lexer": "ipython3",
   "version": "3.10.12"
  }
 },
 "nbformat": 4,
 "nbformat_minor": 2
}
