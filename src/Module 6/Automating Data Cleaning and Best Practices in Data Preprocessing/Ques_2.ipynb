{
 "cells": [
  {
   "cell_type": "markdown",
   "metadata": {},
   "source": [
    "    Task: Complete Pipeline for a Dataset\n",
    "1. Objective: Build a complex pipeline with multiple transformations.\n",
    "2. Steps:\n",
    "    - Load a sample dataset.\n",
    "    - Define a transformation pipeline with both imputation and scaling."
   ]
  },
  {
   "cell_type": "code",
   "execution_count": 2,
   "metadata": {},
   "outputs": [],
   "source": [
    "import pandas as pd\n",
    "import numpy as np\n",
    "from sklearn.pipeline import Pipeline\n",
    "from sklearn.impute import SimpleImputer\n",
    "from sklearn.preprocessing import StandardScaler\n",
    "from sklearn.datasets import load_diabetes\n",
    "\n",
    "def load_dataset():\n",
    "    try:\n",
    "        data = load_diabetes()\n",
    "        df = pd.DataFrame(data.data, columns=data.feature_names)\n",
    "        df.iloc[0:5, 0] = np.nan  # Introduce missing values\n",
    "        return df, data.target\n",
    "    except Exception as e:\n",
    "        print(f\"Error loading dataset: {e}\")\n",
    "        return None, None\n",
    "\n",
    "def validate_data(df):\n",
    "    if df is None or df.empty:\n",
    "        raise ValueError(\"Dataset is empty or not loaded properly.\")\n",
    "    if not np.issubdtype(df.dtypes[0], np.number):\n",
    "        raise TypeError(\"Dataset contains non-numeric data.\")\n",
    "\n",
    "def build_pipeline():\n",
    "    return Pipeline([\n",
    "        (\"imputer\", SimpleImputer(strategy='mean')),\n",
    "        (\"scaler\", StandardScaler())\n",
    "    ])\n",
    "\n",
    "def main():\n",
    "    X, y = load_dataset()\n",
    "    \n",
    "    try:\n",
    "        validate_data(X)\n",
    "        pipeline = build_pipeline()\n",
    "        X_transformed = pipeline.fit_transform(X)\n",
    "        print(\"Pipeline successfully applied. Shape:\", X_transformed.shape)\n",
    "    except Exception as e:\n",
    "        print(f\"Pipeline failed: {e}\")\n",
    "\n",
    "if __name__ == \"__main__\":\n",
    "    main\n"
   ]
  },
  {
   "cell_type": "code",
   "execution_count": null,
   "metadata": {},
   "outputs": [],
   "source": [
    "# Task: Imputation Function\n",
    "\n",
    "\n",
    "\n",
    "\n",
    "\n",
    "\n",
    "\n",
    "\n",
    "# Scaling Function\n",
    "\n",
    "\n",
    "\n",
    "\n",
    "\n",
    "\n",
    "\n",
    "\n",
    "\n",
    "# Combined Transformation Function\n",
    "\n",
    "\n",
    "\n",
    "\n",
    "\n",
    "\n",
    "\n"
   ]
  }
 ],
 "metadata": {
  "kernelspec": {
   "display_name": "Python 3",
   "language": "python",
   "name": "python3"
  },
  "language_info": {
   "codemirror_mode": {
    "name": "ipython",
    "version": 3
   },
   "file_extension": ".py",
   "mimetype": "text/x-python",
   "name": "python",
   "nbconvert_exporter": "python",
   "pygments_lexer": "ipython3",
   "version": "3.10.12"
  }
 },
 "nbformat": 4,
 "nbformat_minor": 2
}
