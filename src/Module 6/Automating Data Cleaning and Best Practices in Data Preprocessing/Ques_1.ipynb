{
 "cells": [
  {
   "cell_type": "markdown",
   "metadata": {},
   "source": [
    "## Automating Data Cleaning in Python"
   ]
  },
  {
   "cell_type": "markdown",
   "metadata": {
    "vscode": {
     "languageId": "plaintext"
    }
   },
   "source": [
    "    Task: Basic Pipeline with Scaling\n",
    "1. Objective: Create a pipeline that scales numerical features in a dataset.\n",
    "2. Steps:\n",
    "    - Load a sample dataset with Pandas.\n",
    "    - Define a pipeline using Pipeline from sklearn.pipeline .\n",
    "    - Use StandardScaler to scale features."
   ]
  },
  {
   "cell_type": "code",
   "execution_count": 1,
   "metadata": {},
   "outputs": [
    {
     "name": "stdout",
     "output_type": "stream",
     "text": [
      "Original DataFrame:\n",
      "   feature1  feature2  feature3\n",
      "0        10       100       0.5\n",
      "1        20       120       0.1\n",
      "2        30       110       0.9\n",
      "3        40       130       0.3\n",
      "4        50       105       0.7\n",
      "------------------------------\n",
      "DataFrame after StandardScaler:\n",
      "   feature1  feature2  feature3\n",
      "0 -1.414214 -1.207020  0.000000\n",
      "1 -0.707107  0.649934 -1.414214\n",
      "2  0.000000 -0.278543  1.414214\n",
      "3  0.707107  1.578410 -0.707107\n",
      "4  1.414214 -0.742781  0.707107\n",
      "------------------------------\n",
      "Scaler mean values (fitted):\n",
      "[ 30.  113.    0.5]\n",
      "Scaler scale (std dev) values (fitted):\n",
      "[14.14213562 10.77032961  0.28284271]\n"
     ]
    }
   ],
   "source": [
    "# Write your code from here\n",
    "import pandas as pd\n",
    "from sklearn.pipeline import Pipeline\n",
    "from sklearn.preprocessing import StandardScaler\n",
    "\n",
    "# 1. Load a sample dataset with Pandas\n",
    "data = {'feature1': [10, 20, 30, 40, 50],\n",
    "        'feature2': [100, 120, 110, 130, 105],\n",
    "        'feature3': [0.5, 0.1, 0.9, 0.3, 0.7]}\n",
    "df = pd.DataFrame(data)\n",
    "\n",
    "print(\"Original DataFrame:\")\n",
    "print(df)\n",
    "print(\"-\" * 30)\n",
    "\n",
    "# 2. Define a pipeline using Pipeline from sklearn.pipeline.\n",
    "# 3. Use StandardScaler to scale features.\n",
    "# Create a pipeline with a single step: StandardScaler\n",
    "scaling_pipeline = Pipeline([\n",
    "    ('scaler', StandardScaler())\n",
    "])\n",
    "\n",
    "# Fit the pipeline to the data and transform it\n",
    "# Note: For demonstration, we fit and transform the same data.\n",
    "# In a real scenario, you'd fit on training data and transform train/test data.\n",
    "scaled_data = scaling_pipeline.fit_transform(df)\n",
    "\n",
    "# The output of the pipeline is a NumPy array.\n",
    "# You can convert it back to a DataFrame if needed.\n",
    "scaled_df = pd.DataFrame(scaled_data, columns=df.columns)\n",
    "\n",
    "print(\"DataFrame after StandardScaler:\")\n",
    "print(scaled_df)\n",
    "print(\"-\" * 30)\n",
    "\n",
    "# You can also inspect the fitted scaler within the pipeline\n",
    "print(\"Scaler mean values (fitted):\")\n",
    "print(scaling_pipeline.named_steps['scaler'].mean_)\n",
    "print(\"Scaler scale (std dev) values (fitted):\")\n",
    "print(scaling_pipeline.named_steps['scaler'].scale_)"
   ]
  },
  {
   "cell_type": "markdown",
   "metadata": {},
   "source": [
    "    Task: Pipeline with Imputation\n",
    "1. Objective: Automate data cleaning by handling missing values.\n",
    "2. Steps:\n",
    "    - Load a dataset with missing values.\n",
    "    - Define a pipeline to use SimpleImputer for filling missing values."
   ]
  },
  {
   "cell_type": "code",
   "execution_count": 2,
   "metadata": {},
   "outputs": [
    {
     "name": "stdout",
     "output_type": "stream",
     "text": [
      "Original DataFrame with missing values:\n",
      "   featureA  featureB  featureC\n",
      "0       1.0      10.0     100.0\n",
      "1       2.0       NaN     110.0\n",
      "2       NaN       NaN     120.0\n",
      "3       4.0      13.0     130.0\n",
      "4       5.0      10.0     140.0\n",
      "5       6.0      11.0       NaN\n",
      "------------------------------\n",
      "DataFrame after SimpleImputer (mean strategy):\n",
      "   featureA  featureB  featureC\n",
      "0       1.0      10.0     100.0\n",
      "1       2.0      11.0     110.0\n",
      "2       3.6      11.0     120.0\n",
      "3       4.0      13.0     130.0\n",
      "4       5.0      10.0     140.0\n",
      "5       6.0      11.0     120.0\n",
      "------------------------------\n",
      "Values used for imputation (fitted means):\n",
      "[  3.6  11.  120. ]\n"
     ]
    }
   ],
   "source": [
    "# Write your code from here\n",
    "import pandas as pd\n",
    "import numpy as np # For np.nan\n",
    "from sklearn.pipeline import Pipeline\n",
    "from sklearn.impute import SimpleImputer\n",
    "\n",
    "# 1. Load a dataset with missing values\n",
    "data_with_missing = {'featureA': [1.0, 2.0, np.nan, 4.0, 5.0, 6.0],\n",
    "                     'featureB': [10.0, np.nan, np.nan, 13.0, 10.0, 11.0],\n",
    "                     'featureC': [100.0, 110.0, 120.0, 130.0, 140.0, np.nan]}\n",
    "df_missing = pd.DataFrame(data_with_missing)\n",
    "\n",
    "print(\"Original DataFrame with missing values:\")\n",
    "print(df_missing)\n",
    "print(\"-\" * 30)\n",
    "\n",
    "# 2. Define a pipeline to use SimpleImputer for filling missing values.\n",
    "# We'll use the 'mean' strategy for imputation. Other strategies include 'median', 'most_frequent', or 'constant'.\n",
    "imputation_pipeline = Pipeline([\n",
    "    ('imputer', SimpleImputer(strategy='mean'))\n",
    "])\n",
    "\n",
    "# Fit the pipeline to the data and transform it\n",
    "imputed_data = imputation_pipeline.fit_transform(df_missing)\n",
    "\n",
    "# The output of the pipeline is a NumPy array.\n",
    "# You can convert it back to a DataFrame if needed.\n",
    "imputed_df = pd.DataFrame(imputed_data, columns=df_missing.columns)\n",
    "\n",
    "print(\"DataFrame after SimpleImputer (mean strategy):\")\n",
    "print(imputed_df)\n",
    "print(\"-\" * 30)\n",
    "\n",
    "# You can also inspect the fitted imputer within the pipeline\n",
    "print(\"Values used for imputation (fitted means):\")\n",
    "print(imputation_pipeline.named_steps['imputer'].statistics_)"
   ]
  }
 ],
 "metadata": {
  "kernelspec": {
   "display_name": "Python 3",
   "language": "python",
   "name": "python3"
  },
  "language_info": {
   "codemirror_mode": {
    "name": "ipython",
    "version": 3
   },
   "file_extension": ".py",
   "mimetype": "text/x-python",
   "name": "python",
   "nbconvert_exporter": "python",
   "pygments_lexer": "ipython3",
   "version": "3.10.12"
  }
 },
 "nbformat": 4,
 "nbformat_minor": 2
}
